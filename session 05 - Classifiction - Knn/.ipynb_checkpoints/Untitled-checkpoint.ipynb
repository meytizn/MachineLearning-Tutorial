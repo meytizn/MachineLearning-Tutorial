{
 "cells": [
  {
   "cell_type": "code",
   "execution_count": 6,
   "id": "f4a35de1-eb64-45cc-ada5-12781f0ddfbe",
   "metadata": {},
   "outputs": [
    {
     "name": "stdout",
     "output_type": "stream",
     "text": [
      "0.9479768786127167\n"
     ]
    }
   ],
   "source": [
    "#  method 2 = modeling with making manualy n_feature col with no model\n",
    "import pandas as pd\n",
    "import sklearn\n",
    "from sklearn.model_selection import train_test_split\n",
    "from sklearn.neighbors import KNeighborsClassifier  #Knn modeling\n",
    "from sklearn.preprocessing import LabelEncoder\n",
    "\n",
    "\n",
    "\n",
    "df=pd.read_csv(\"car.data\",header=None)\n",
    "df.columns=['buying','maint','doors','persons','lug_boot','safety','class']\n",
    "\n",
    "\n",
    "\n",
    "\n",
    "# we we have categorical or string type of data \"df.info()\"\n",
    "# we make a col and coverts  similar values to a index of a list that \n",
    "#they become a numerical num\n",
    "#this way is modular and easy\n",
    "\n",
    "encoder=LabelEncoder()\n",
    "\n",
    "\n",
    "buying=encoder.fit_transform(df['buying'])\n",
    "maint=encoder.fit_transform(df['maint'])\n",
    "doors=encoder.fit_transform(df['doors'])\n",
    "persons=encoder.fit_transform(df['persons'])\n",
    "lug_boot=encoder.fit_transform(df['lug_boot'])\n",
    "safety=encoder.fit_transform(df['safety'])\n",
    "clas=encoder.fit_transform(df['class'])\n",
    "#... we do this for all features\n",
    "\n",
    "\n",
    "# xy train test \n",
    "X=list(zip(buying,maint,doors,persons,lug_boot,safety)) \n",
    "Y=clas\n",
    "x_train,x_test,y_train,y_test=train_test_split(X,Y,test_size=0.1)# you can use random_state=123 to freeze random value\n",
    "\n",
    "\n",
    "\n",
    "\n",
    "#modeling mfs\n",
    " # for getting we can better score i used a for in range(3,5,7) but you can delete the for and use odd num in n_neighbors\n",
    "\n",
    "# for i in range(3,50,2):\n",
    "#     model=KNeighborsClassifier(n_neighbors=i) # knn modeling and its knn deep used and must be odd\n",
    "#     model.fit(x_train,y_train)\n",
    "#     score=model.score(x_test,y_test)\n",
    "#     print( i , score)\n",
    "\n",
    "\n",
    "\n",
    "\n",
    "\n",
    "model=KNeighborsClassifier(n_neighbors=9) # knn modeling and its knn deep used and must be odd\n",
    "model.fit(x_train,y_train)\n",
    "score=model.score(x_test,y_test)\n",
    "print(score)\n",
    "\n",
    "\n",
    "\n",
    "\n"
   ]
  },
  {
   "cell_type": "code",
   "execution_count": 7,
   "id": "e3c5ff4d-8a91-42f3-bf3e-ced126cae625",
   "metadata": {},
   "outputs": [
    {
     "data": {
      "text/plain": [
       "0.9479768786127167"
      ]
     },
     "execution_count": 7,
     "metadata": {},
     "output_type": "execute_result"
    }
   ],
   "source": [
    "# Testing accuracy according to upon score \n",
    "from sklearn.metrics import accuracy_score\n",
    "predictions = model.predict(x_test)\n",
    "accuracy_score(predictions,y_test)\n",
    "\n",
    "\n"
   ]
  },
  {
   "cell_type": "code",
   "execution_count": 8,
   "id": "4c357975-2112-451f-a959-4a639315565d",
   "metadata": {},
   "outputs": [
    {
     "data": {
      "text/plain": [
       "['knn.sav']"
      ]
     },
     "execution_count": 8,
     "metadata": {},
     "output_type": "execute_result"
    }
   ],
   "source": [
    "# saving model\n",
    "import joblib\n",
    "file_name='knn.sav'\n",
    "joblib.dump(model,file_name)\n"
   ]
  },
  {
   "cell_type": "code",
   "execution_count": null,
   "id": "68853c1d-6c45-4b7f-9be0-de445271d918",
   "metadata": {},
   "outputs": [],
   "source": []
  }
 ],
 "metadata": {
  "kernelspec": {
   "display_name": "Python 3 (ipykernel)",
   "language": "python",
   "name": "python3"
  },
  "language_info": {
   "codemirror_mode": {
    "name": "ipython",
    "version": 3
   },
   "file_extension": ".py",
   "mimetype": "text/x-python",
   "name": "python",
   "nbconvert_exporter": "python",
   "pygments_lexer": "ipython3",
   "version": "3.9.0"
  }
 },
 "nbformat": 4,
 "nbformat_minor": 5
}
