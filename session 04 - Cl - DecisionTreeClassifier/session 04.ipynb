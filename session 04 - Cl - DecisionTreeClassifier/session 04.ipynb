{
 "cells": [
  {
   "cell_type": "code",
   "execution_count": 1,
   "id": "f2a0c83d-4da8-4bf0-bdb1-1ae743b65181",
   "metadata": {},
   "outputs": [],
   "source": [
    "import pandas as pd \n",
    "import numpy as np \n",
    "\n",
    "# sklearn tools to Train and Test \n",
    "import sklearn\n",
    "from sklearn.model_selection import train_test_split\n",
    "import matplotlib.pyplot as plt\n",
    "from sklearn.tree import DecisionTreeClassifier\n",
    "from sklearn import linear_model\n",
    "\n",
    "\n",
    "columns=['age','sex','cp','trestbps','chol','fbs','restecg',\n",
    "         'thalach','exang','oldpeak','slope','ca','thal','num']\n",
    "\n",
    "\n",
    "\n",
    "\n",
    "df=pd.read_csv(\"processed.cleveland.data\",header=None,names=columns)\n"
   ]
  },
  {
   "cell_type": "code",
   "execution_count": 2,
   "id": "ae4b3f42-c516-41e9-b67d-c4ea94283fc5",
   "metadata": {},
   "outputs": [
    {
     "name": "stdout",
     "output_type": "stream",
     "text": [
      "<class 'pandas.core.frame.DataFrame'>\n",
      "RangeIndex: 303 entries, 0 to 302\n",
      "Data columns (total 14 columns):\n",
      " #   Column    Non-Null Count  Dtype  \n",
      "---  ------    --------------  -----  \n",
      " 0   age       303 non-null    float64\n",
      " 1   sex       303 non-null    float64\n",
      " 2   cp        303 non-null    float64\n",
      " 3   trestbps  303 non-null    float64\n",
      " 4   chol      303 non-null    float64\n",
      " 5   fbs       303 non-null    float64\n",
      " 6   restecg   303 non-null    float64\n",
      " 7   thalach   303 non-null    float64\n",
      " 8   exang     303 non-null    float64\n",
      " 9   oldpeak   303 non-null    float64\n",
      " 10  slope     303 non-null    float64\n",
      " 11  ca        303 non-null    object \n",
      " 12  thal      303 non-null    object \n",
      " 13  num       303 non-null    int64  \n",
      "dtypes: float64(11), int64(1), object(2)\n",
      "memory usage: 33.3+ KB\n"
     ]
    }
   ],
   "source": [
    "df.info()"
   ]
  },
  {
   "cell_type": "code",
   "execution_count": 3,
   "id": "da95c969-1422-40aa-a0ea-57dcf0877a13",
   "metadata": {},
   "outputs": [
    {
     "name": "stdout",
     "output_type": "stream",
     "text": [
      "4 2\n"
     ]
    }
   ],
   "source": [
    "\n",
    "# counter of mising values finder \n",
    "ca=0\n",
    "thal=0\n",
    "for i in df.values :\n",
    "    if i[11]=='?':\n",
    "        ca+=1\n",
    "    if i[12]=='?':\n",
    "        thal+=1\n",
    "print(ca,thal)"
   ]
  },
  {
   "cell_type": "code",
   "execution_count": 4,
   "id": "bc92dbe4-48c6-4e9a-8ea0-3d3e189d6588",
   "metadata": {},
   "outputs": [
    {
     "name": "stdout",
     "output_type": "stream",
     "text": [
      "<class 'pandas.core.frame.DataFrame'>\n",
      "Index: 297 entries, 0 to 301\n",
      "Data columns (total 14 columns):\n",
      " #   Column    Non-Null Count  Dtype  \n",
      "---  ------    --------------  -----  \n",
      " 0   age       297 non-null    float64\n",
      " 1   sex       297 non-null    float64\n",
      " 2   cp        297 non-null    float64\n",
      " 3   trestbps  297 non-null    float64\n",
      " 4   chol      297 non-null    float64\n",
      " 5   fbs       297 non-null    float64\n",
      " 6   restecg   297 non-null    float64\n",
      " 7   thalach   297 non-null    float64\n",
      " 8   exang     297 non-null    float64\n",
      " 9   oldpeak   297 non-null    float64\n",
      " 10  slope     297 non-null    float64\n",
      " 11  ca        297 non-null    float64\n",
      " 12  thal      297 non-null    float64\n",
      " 13  num       297 non-null    float64\n",
      "dtypes: float64(14)\n",
      "memory usage: 34.8 KB\n"
     ]
    }
   ],
   "source": [
    "#removing missing value \n",
    "#Tip =#coverting features values to float duto much of floating values\n",
    "df.replace(\"?\",pd.NA,inplace=True)\n",
    "df.dropna(inplace=True)\n",
    "df=df.apply(pd.to_numeric,errors='coerce')\n",
    "df=df.astype(float) \n",
    "df.info()"
   ]
  },
  {
   "cell_type": "code",
   "execution_count": 5,
   "id": "fc12a3ac-1963-4711-965a-d94c87b0a17b",
   "metadata": {},
   "outputs": [],
   "source": [
    "target='num'\n",
    "X=df.drop(target,axis=1)\n",
    "Y=df[target]\n",
    "x_train,x_test,y_train,y_test=train_test_split(X,Y,test_size=0.2,random_state=123)"
   ]
  },
  {
   "cell_type": "code",
   "execution_count": 6,
   "id": "78eb5903-a3eb-4837-85f1-84e5a58e6ec6",
   "metadata": {},
   "outputs": [
    {
     "name": "stdout",
     "output_type": "stream",
     "text": [
      "0.65\n"
     ]
    }
   ],
   "source": [
    "\n",
    "model=DecisionTreeClassifier(criterion='entropy',max_depth=4 , random_state=123)\n",
    "model=model.fit(x_train,y_train)\n",
    "score=model.score(x_test,y_test)\n",
    "print(score)"
   ]
  },
  {
   "cell_type": "code",
   "execution_count": 7,
   "id": "b4ff7596-068f-4915-9a93-ef6f5db990b8",
   "metadata": {},
   "outputs": [
    {
     "data": {
      "text/plain": [
       "['ds.sav']"
      ]
     },
     "execution_count": 7,
     "metadata": {},
     "output_type": "execute_result"
    }
   ],
   "source": [
    "import joblib\n",
    "file_name='ds.sav'\n",
    "joblib.dump(model,file_name)"
   ]
  },
  {
   "cell_type": "code",
   "execution_count": null,
   "id": "591a74e8-4165-4104-9991-ae17d24cf5e2",
   "metadata": {},
   "outputs": [],
   "source": []
  }
 ],
 "metadata": {
  "kernelspec": {
   "display_name": "Python 3 (ipykernel)",
   "language": "python",
   "name": "python3"
  },
  "language_info": {
   "codemirror_mode": {
    "name": "ipython",
    "version": 3
   },
   "file_extension": ".py",
   "mimetype": "text/x-python",
   "name": "python",
   "nbconvert_exporter": "python",
   "pygments_lexer": "ipython3",
   "version": "3.9.0"
  }
 },
 "nbformat": 4,
 "nbformat_minor": 5
}
