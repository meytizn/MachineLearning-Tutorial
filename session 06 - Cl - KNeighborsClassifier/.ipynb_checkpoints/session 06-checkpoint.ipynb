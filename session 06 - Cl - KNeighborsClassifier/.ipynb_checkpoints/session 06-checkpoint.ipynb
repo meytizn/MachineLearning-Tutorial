{
 "cells": [
  {
   "cell_type": "code",
   "execution_count": 8,
   "id": "4139c2a8-77fa-4e2d-9dce-ff5e16101386",
   "metadata": {},
   "outputs": [
    {
     "name": "stdout",
     "output_type": "stream",
     "text": [
      "1.0\n"
     ]
    }
   ],
   "source": [
    "#  method 2 = modeling with making manualy n_feature col with no model\n",
    "import pandas as pd\n",
    "import sklearn\n",
    "from sklearn.model_selection import train_test_split\n",
    "from sklearn.neighbors import KNeighborsClassifier  #Knn modeling\n",
    "from sklearn.preprocessing import LabelEncoder\n",
    "\n",
    "\n",
    "\n",
    "df=pd.read_csv(\"iris.data\",header=None)\n",
    "df.columns=['sepallength','sepalwidth','petallength','petalwidth','class']\n",
    "\n",
    "\n",
    "\n",
    "\n",
    "# we we have categorical or string type of data \"df.info()\"\n",
    "# we make a col and coverts  similar values to a index of a list that \n",
    "#they become a numerical num\n",
    "#this way is modular and easy\n",
    "\n",
    "encoder=LabelEncoder()\n",
    "\n",
    "\n",
    "sepallength=encoder.fit_transform(df['sepallength'])\n",
    "\n",
    "sepalwidth=encoder.fit_transform(df['sepalwidth'])\n",
    "\n",
    "petallength=encoder.fit_transform(df['petallength'])\n",
    "\n",
    "petalwidth=encoder.fit_transform(df['petalwidth'])\n",
    "\n",
    "clas=encoder.fit_transform(df['class'])\n",
    "#... we do this for all features\n",
    "\n",
    "\n",
    "# xy train test \n",
    "X=list(zip(sepallength,sepalwidth,petallength,petalwidth)) \n",
    "Y=clas\n",
    "x_train,x_test,y_train,y_test=train_test_split(X,Y,test_size=0.1)# you can use random_state=123 to freeze random value\n",
    "\n",
    "\n",
    "\n",
    "\n",
    "#modeling mfs\n",
    " # for getting we can better score i used a for in range(3,5,7) but you can delete the for and use odd num in n_neighbors\n",
    "\n",
    "# for i in range(3,50,2):\n",
    "#     model=KNeighborsClassifier(n_neighbors=i) # knn modeling and its knn deep used and must be odd\n",
    "#     model.fit(x_train,y_train)\n",
    "#     score=model.score(x_test,y_test)\n",
    "#     print( i , score)\n",
    "\n",
    "\n",
    "\n",
    "\n",
    "\n",
    "model=KNeighborsClassifier(n_neighbors=3) # knn modeling and its knn deep used and must be odd\n",
    "model.fit(x_train,y_train)\n",
    "score=model.score(x_test,y_test)\n",
    "print(score)\n",
    "\n",
    "\n",
    "\n",
    "\n"
   ]
  },
  {
   "cell_type": "code",
   "execution_count": 9,
   "id": "c06210ea-267c-4dea-91cb-41125b3cf96b",
   "metadata": {},
   "outputs": [
    {
     "data": {
      "text/plain": [
       "1.0"
      ]
     },
     "execution_count": 9,
     "metadata": {},
     "output_type": "execute_result"
    }
   ],
   "source": [
    "# Testing accuracy according to upon score \n",
    "from sklearn.metrics import accuracy_score\n",
    "predictions = model.predict(x_test)\n",
    "accuracy_score(predictions,y_test)\n",
    "\n",
    "\n"
   ]
  },
  {
   "cell_type": "code",
   "execution_count": 10,
   "id": "e3c82aaf-0cfb-4a4d-aa57-df413e2bb1df",
   "metadata": {},
   "outputs": [
    {
     "data": {
      "text/plain": [
       "['knn.sav']"
      ]
     },
     "execution_count": 10,
     "metadata": {},
     "output_type": "execute_result"
    }
   ],
   "source": [
    "import joblib\n",
    "file_name='knn.sav'\n",
    "joblib.dump(model,file_name)\n"
   ]
  },
  {
   "cell_type": "code",
   "execution_count": null,
   "id": "be46b769-0a63-4207-9f3b-1582eef78879",
   "metadata": {},
   "outputs": [],
   "source": []
  }
 ],
 "metadata": {
  "kernelspec": {
   "display_name": "Python 3 (ipykernel)",
   "language": "python",
   "name": "python3"
  },
  "language_info": {
   "codemirror_mode": {
    "name": "ipython",
    "version": 3
   },
   "file_extension": ".py",
   "mimetype": "text/x-python",
   "name": "python",
   "nbconvert_exporter": "python",
   "pygments_lexer": "ipython3",
   "version": "3.9.0"
  }
 },
 "nbformat": 4,
 "nbformat_minor": 5
}
