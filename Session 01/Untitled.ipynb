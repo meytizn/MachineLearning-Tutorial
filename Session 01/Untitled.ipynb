{
 "cells": [
  {
   "cell_type": "code",
   "execution_count": 2,
   "id": "0495b02b-aca9-4bff-a0ef-116cea72f39d",
   "metadata": {},
   "outputs": [],
   "source": [
    "import numpy as np\n",
    "import pandas as pd\n",
    "import matplotlib.pyplot as plt\n",
    "import sklearn\n",
    "# sklearn tools to Train and Test \n",
    "from sklearn.model_selection import train_test_split\n",
    "from sklearn import linear_model\n",
    "\n",
    "\n",
    "# Load the dataset\n",
    "df = pd.read_csv(\"student-mat.csv\", sep=\";\")\n",
    "\n",
    "\n",
    "\n",
    "# Select relevant columns\n",
    "df = df[[\"age\", \"freetime\", \"absences\", \"Medu\", \"G1\", \"G2\", \"G3\"]]\n",
    "\n",
    "\n",
    "\n",
    "# Define the target variable\n",
    "predict = \"G3\"\n",
    "\n",
    "\n",
    "\n",
    "# Split features (X) and label (Y)\n",
    "X = np.array(df.drop([predict], axis=1))\n",
    "Y = np.array(df[predict])\n",
    "\n",
    "\n"
   ]
  },
  {
   "cell_type": "code",
   "execution_count": 3,
   "id": "80177c66-2b18-4422-ae0c-fab1a8db9bfb",
   "metadata": {},
   "outputs": [],
   "source": [
    "\n",
    "\n",
    "# sklearn tools to Train and Test\n",
    "x_train, x_test, y_train, y_test = train_test_split(X, Y, test_size=0.1)\n",
    "\n",
    "# for test run x_train.shape or x_test.shape\n",
    "\n"
   ]
  },
  {
   "cell_type": "code",
   "execution_count": 7,
   "id": "9cfea27b-8617-4e83-aab6-f2c7b0202124",
   "metadata": {},
   "outputs": [
    {
     "name": "stdout",
     "output_type": "stream",
     "text": [
      "0.8501522445596017\n"
     ]
    }
   ],
   "source": [
    "\n",
    "\n",
    "# make model after reciving your train and test vars\n",
    "model = linear_model.LinearRegression()\n",
    "# fit the model that gets only Trains then calculate acoureccy that gets only tests\n",
    "model.fit(x_train,y_train)\n",
    "acc=model.score(x_test,y_test)\n",
    "\n",
    "# show acc\n",
    "print(acc)\n",
    "\n"
   ]
  },
  {
   "cell_type": "code",
   "execution_count": null,
   "id": "cd326e9c-a622-4681-baf0-2e6e546b7d03",
   "metadata": {},
   "outputs": [],
   "source": []
  }
 ],
 "metadata": {
  "kernelspec": {
   "display_name": "Python 3 (ipykernel)",
   "language": "python",
   "name": "python3"
  },
  "language_info": {
   "codemirror_mode": {
    "name": "ipython",
    "version": 3
   },
   "file_extension": ".py",
   "mimetype": "text/x-python",
   "name": "python",
   "nbconvert_exporter": "python",
   "pygments_lexer": "ipython3",
   "version": "3.9.0"
  }
 },
 "nbformat": 4,
 "nbformat_minor": 5
}
