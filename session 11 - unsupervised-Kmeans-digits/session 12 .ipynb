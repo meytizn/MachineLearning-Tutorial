{
 "cells": [
  {
   "cell_type": "code",
   "execution_count": 1,
   "id": "a214778d-fea5-46b9-9019-50079c59fb53",
   "metadata": {},
   "outputs": [
    {
     "name": "stdout",
     "output_type": "stream",
     "text": [
      "1        \t1169576\t0.704\t0.736\t0.720\t0.578\t0.717\t0.187\n"
     ]
    }
   ],
   "source": [
    "import numpy as np\n",
    "import sklearn\n",
    "from sklearn.datasets import load_digits\n",
    "from sklearn.cluster import KMeans\n",
    "from sklearn import metrics\n",
    "\n",
    "\n",
    "df = load_digits()\n",
    "## extra information about ur dataset codes\n",
    "# print(data.DESCR)\n",
    "# print(data)\n",
    "\n",
    "\n",
    "\n",
    "\n",
    "x = df.data\n",
    "y = df.target\n",
    "k = len(np.unique(y)) #cenoid numbers\n",
    "\n",
    "## extra information about ur dataset arrays\n",
    "# # print(x[0])\n",
    "# # X[0].reshape(8,8)\n",
    "# # print(k)\n",
    "\n",
    "\n",
    "\n",
    "\n",
    "# #modeling k_means\n",
    "model = KMeans(n_clusters=k, init=\"random\", n_init=10)\n",
    "\n",
    "\n",
    "\n",
    "\n",
    "\n",
    "# using metrics unites for scoring k_means model \n",
    "def bench_k_means(estimator, name, x):\n",
    "    estimator.fit(x)\n",
    "    print('%-9s\\t%i\\t%.3f\\t%.3f\\t%.3f\\t%.3f\\t%.3f\\t%.3f'\n",
    "          % (name, estimator.inertia_,\n",
    "             metrics.homogeneity_score(y, estimator.labels_),\n",
    "             metrics.completeness_score(y, estimator.labels_),\n",
    "             metrics.v_measure_score(y, estimator.labels_),\n",
    "             metrics.adjusted_rand_score(y, estimator.labels_),\n",
    "             metrics.adjusted_mutual_info_score(y,  estimator.labels_),\n",
    "             metrics.silhouette_score(x, estimator.labels_, metric='euclidean')))\n",
    "\n",
    "\n",
    "#scoring \n",
    "bench_k_means(model, \"1\", x)"
   ]
  },
  {
   "cell_type": "code",
   "execution_count": 2,
   "id": "a23cfe15-0c3d-4160-9c01-a0eade78e4f9",
   "metadata": {},
   "outputs": [
    {
     "data": {
      "text/plain": [
       "['k_means.sav']"
      ]
     },
     "execution_count": 2,
     "metadata": {},
     "output_type": "execute_result"
    }
   ],
   "source": [
    "#saving model \n",
    "import joblib\n",
    "file_name='k_means.sav'\n",
    "joblib.dump(model,file_name)"
   ]
  },
  {
   "cell_type": "code",
   "execution_count": null,
   "id": "d6e03bba-079d-46bd-bb77-6a3062649314",
   "metadata": {},
   "outputs": [],
   "source": []
  }
 ],
 "metadata": {
  "kernelspec": {
   "display_name": "Python 3 (ipykernel)",
   "language": "python",
   "name": "python3"
  },
  "language_info": {
   "codemirror_mode": {
    "name": "ipython",
    "version": 3
   },
   "file_extension": ".py",
   "mimetype": "text/x-python",
   "name": "python",
   "nbconvert_exporter": "python",
   "pygments_lexer": "ipython3",
   "version": "3.9.0"
  }
 },
 "nbformat": 4,
 "nbformat_minor": 5
}
