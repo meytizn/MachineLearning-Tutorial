{
 "cells": [
  {
   "cell_type": "code",
   "execution_count": 1,
   "id": "6254d9cd-1709-4885-8914-fc2084bf916e",
   "metadata": {},
   "outputs": [
    {
     "name": "stdout",
     "output_type": "stream",
     "text": [
      "<class 'pandas.core.frame.DataFrame'>\n",
      "RangeIndex: 205 entries, 0 to 204\n",
      "Data columns (total 26 columns):\n",
      " #   Column             Non-Null Count  Dtype  \n",
      "---  ------             --------------  -----  \n",
      " 0   symboling          205 non-null    int64  \n",
      " 1   normalized-losses  205 non-null    object \n",
      " 2   make               205 non-null    object \n",
      " 3   fuel-type          205 non-null    object \n",
      " 4   aspiration         205 non-null    object \n",
      " 5   num-of-doors       205 non-null    object \n",
      " 6   body-style         205 non-null    object \n",
      " 7   drive-wheels       205 non-null    object \n",
      " 8   engine-location    205 non-null    object \n",
      " 9   wheel-base         205 non-null    float64\n",
      " 10  length             205 non-null    float64\n",
      " 11  width              205 non-null    float64\n",
      " 12  height             205 non-null    float64\n",
      " 13  curb-weight        205 non-null    int64  \n",
      " 14  engine-type        205 non-null    object \n",
      " 15  num-of-cylinders   205 non-null    object \n",
      " 16  engine-size        205 non-null    int64  \n",
      " 17  fuel-system        205 non-null    object \n",
      " 18  bore               205 non-null    object \n",
      " 19  stroke             205 non-null    object \n",
      " 20  compression-ratio  205 non-null    float64\n",
      " 21  horsepower         205 non-null    object \n",
      " 22  peak-rpm           205 non-null    object \n",
      " 23  city-mpg           205 non-null    int64  \n",
      " 24  highway-mpg        205 non-null    int64  \n",
      " 25  price              205 non-null    object \n",
      "dtypes: float64(5), int64(5), object(16)\n",
      "memory usage: 41.8+ KB\n"
     ]
    }
   ],
   "source": [
    "import pandas as pd \n",
    "import sklearn\n",
    "from sklearn.model_selection import train_test_split\n",
    "\n",
    "from sklearn.neighbors import KNeighborsRegressor\n",
    "from sklearn.preprocessing import LabelEncoder\n",
    "\n",
    "\n",
    "\n",
    "df=pd.read_csv(\"imports-85.data\",header=None)\n",
    "\n",
    "\n",
    "df.columns=['symboling','normalized-losses','make','fuel-type',\n",
    "         'aspiration','num-of-doors','body-style',\n",
    "         'drive-wheels','engine-location','wheel-base',\n",
    "         'length','width','height',\n",
    "         'curb-weight','engine-type','num-of-cylinders',\n",
    "         'engine-size','fuel-system','bore',\n",
    "         'stroke','compression-ratio','horsepower',\n",
    "         'peak-rpm','city-mpg','highway-mpg','price']\n",
    "\n",
    "\n",
    "df.info()\n"
   ]
  },
  {
   "cell_type": "code",
   "execution_count": 2,
   "id": "f1d97a67-a120-45fe-85c7-e833c5a7421a",
   "metadata": {},
   "outputs": [
    {
     "data": {
      "text/plain": [
       "array([130, 152, 109, 136, 131, 108, 164, 209,  61,  90,  98, 122, 156,\n",
       "        92,  79, 110, 111, 119, 258, 326,  91,  70,  80, 140, 134, 183,\n",
       "       234, 308, 304,  97, 103, 120, 181, 151, 194, 203, 132, 121, 146,\n",
       "       171, 161, 141, 173, 145])"
      ]
     },
     "execution_count": 2,
     "metadata": {},
     "output_type": "execute_result"
    }
   ],
   "source": [
    "df['engine-size'].unique()\n"
   ]
  },
  {
   "cell_type": "code",
   "execution_count": 3,
   "id": "7935dce3-f6a2-430e-943f-ae5353407e5b",
   "metadata": {},
   "outputs": [],
   "source": [
    "# removing Missing value ?\n",
    "df.replace('?', pd.NA, inplace=True)\n",
    "df.dropna(inplace=True)\n",
    "# converter function to convert obj str (str) data type to int \n",
    "transformer = LabelEncoder()\n"
   ]
  },
  {
   "cell_type": "code",
   "execution_count": 4,
   "id": "d2a8fa1c-226a-4afb-bf75-7e151296d73f",
   "metadata": {},
   "outputs": [],
   "source": [
    "\n",
    "\n",
    "\n",
    "\n",
    "\n",
    "# best completing cleaning data  of having \n",
    "#removingmissingvalue, obj str (int,str) , clean int , clean float\n",
    "\n",
    "symboling = df['symboling']     # clear int type\n"
   ]
  },
  {
   "cell_type": "code",
   "execution_count": 5,
   "id": "1fcd28f1-b07d-417c-8ca3-90c494198c94",
   "metadata": {},
   "outputs": [],
   "source": [
    "normalized_losses = df['normalized-losses']   #obj string int type to => int \n",
    "normalized_losses=normalized_losses.apply(pd.to_numeric,errors='coerce')\n",
    "normalized_losses=normalized_losses.astype(int)\n",
    "# normalized_losses.unique()"
   ]
  },
  {
   "cell_type": "code",
   "execution_count": 6,
   "id": "59cca0d8-1dc4-4cc3-a416-f6a507d1e247",
   "metadata": {},
   "outputs": [],
   "source": [
    "make = [int(i) for i in transformer.fit_transform(df['make'])]  #obj string string type to => int\n"
   ]
  },
  {
   "cell_type": "code",
   "execution_count": null,
   "id": "cef1969c-eca4-45c3-bb80-dd55ed20aa5f",
   "metadata": {},
   "outputs": [],
   "source": []
  },
  {
   "cell_type": "code",
   "execution_count": 7,
   "id": "cd7b47a0-3d85-4046-a6d1-5435f98f5753",
   "metadata": {},
   "outputs": [],
   "source": [
    "fuel_type = [int(i) for i in transformer.fit_transform(df['fuel-type'])]  #obj string string type to => int\n",
    "aspiration = [int(i) for i in transformer.fit_transform(df['aspiration'])]  #obj string string type to => int\n",
    "num_of_doors = [int(i) for i in transformer.fit_transform(df['num-of-doors'])]  #obj string string type to => int\n",
    "body_style = [int(i) for i in transformer.fit_transform(df['body-style'])]  #obj string string type to => int\n",
    "drive_wheels = [int(i) for i in transformer.fit_transform(df['drive-wheels'])]  #obj string string type to => int\n",
    "engine_location = [int(i) for i in transformer.fit_transform(df['engine-location'])]  #obj string string type to => int\n",
    "\n",
    "wheel_base = df['wheel-base']     # clear float type\n",
    "\n",
    "length= df['length']     # clear float type\n",
    "width= df['width']     # clear float type\n",
    "height = df['height']     # clear float type\n",
    "curb_weight= df['curb-weight']     # clear int type\n",
    "engine_type  = [int(i) for i in transformer.fit_transform(df['engine-type'])]  #obj string string type to => int\n",
    "num_of_cylinders=[int(i) for i in transformer.fit_transform(df['num-of-cylinders'])]  #obj string string type to => int\n",
    "engine_size = df['engine-size'] \n",
    "fuel_system=[int(i) for i in transformer.fit_transform(df['fuel-system'])]  #obj string string type to => int\n",
    "\n",
    "\n",
    "bore = df['bore']   #osf \n",
    "bore=bore.apply(pd.to_numeric,errors='coerce')\n",
    "bore=bore.astype(float)\n",
    "\n",
    "\n",
    "\n",
    "stroke = df['stroke']   #osf\n",
    "stroke=stroke.apply(pd.to_numeric,errors='coerce')\n",
    "stroke=stroke.astype(float)\n",
    "\n",
    "\n",
    "compression_ratio = df['compression-ratio'] \n",
    "\n",
    "\n",
    "\n",
    "horsepower = df['horsepower']   ##osi\n",
    "horsepower=horsepower.apply(pd.to_numeric,errors='coerce')\n",
    "horsepower=horsepower.astype(int)\n",
    "\n",
    "\n",
    "peak_rpm = df['peak-rpm']   ##osi\n",
    "peak_rpm=peak_rpm.apply(pd.to_numeric,errors='coerce')\n",
    "peak_rpm=peak_rpm.astype(int)\n",
    "\n",
    "city_mpg= df['city-mpg']    \n",
    "highway_mpg= df['highway-mpg']     \n",
    "\n",
    "\n",
    "price = df['price']   #osi\n",
    "price=price.apply(pd.to_numeric,errors='coerce')\n",
    "price=price.astype(int)\n"
   ]
  },
  {
   "cell_type": "code",
   "execution_count": 8,
   "id": "58040a0b-1c7b-419b-9615-14c0c06fb515",
   "metadata": {},
   "outputs": [],
   "source": [
    "X = list(zip(symboling,normalized_losses,normalized_losses,make,fuel_type,aspiration,num_of_doors,body_style,drive_wheels,engine_location,\n",
    "         wheel_base,length,width,height,curb_weight ,engine_type,num_of_cylinders,engine_size,fuel_system,bore,stroke ,compression_ratio,\n",
    "          horsepower,peak_rpm,city_mpg,highway_mpg))\n",
    "Y=price\n",
    "\n",
    "x_train, x_test, y_train, y_test = train_test_split(X, Y, test_size=0.1)"
   ]
  },
  {
   "cell_type": "code",
   "execution_count": 9,
   "id": "7c0ba9ca-1b31-4642-b763-304cdd32c8c1",
   "metadata": {},
   "outputs": [
    {
     "data": {
      "text/plain": [
       "0.9524147123722468"
      ]
     },
     "execution_count": 9,
     "metadata": {},
     "output_type": "execute_result"
    }
   ],
   "source": [
    "model=KNeighborsRegressor(n_neighbors=5)\n",
    "model.fit(x_train,y_train)\n",
    "model.score(x_test,y_test)"
   ]
  },
  {
   "cell_type": "code",
   "execution_count": 11,
   "id": "c9263fc6-e3b5-4608-b96b-be0dcbffb1cb",
   "metadata": {},
   "outputs": [
    {
     "data": {
      "text/plain": [
       "['knnR.sav']"
      ]
     },
     "execution_count": 11,
     "metadata": {},
     "output_type": "execute_result"
    }
   ],
   "source": [
    "import joblib\n",
    "file_name='knnR.sav'\n",
    "joblib.dump(model,file_name)\n"
   ]
  },
  {
   "cell_type": "code",
   "execution_count": null,
   "id": "5f3638d1-40b8-4735-abc6-71a77eee5b84",
   "metadata": {},
   "outputs": [],
   "source": []
  }
 ],
 "metadata": {
  "kernelspec": {
   "display_name": "Python 3 (ipykernel)",
   "language": "python",
   "name": "python3"
  },
  "language_info": {
   "codemirror_mode": {
    "name": "ipython",
    "version": 3
   },
   "file_extension": ".py",
   "mimetype": "text/x-python",
   "name": "python",
   "nbconvert_exporter": "python",
   "pygments_lexer": "ipython3",
   "version": "3.9.0"
  }
 },
 "nbformat": 4,
 "nbformat_minor": 5
}
