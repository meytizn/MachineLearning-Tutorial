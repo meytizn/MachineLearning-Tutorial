{
 "cells": [
  {
   "cell_type": "code",
   "execution_count": 2,
   "id": "7af10a59-c018-43dc-a776-0e3bca47ed63",
   "metadata": {},
   "outputs": [
    {
     "data": {
      "text/plain": [
       "0.9051885310951218"
      ]
     },
     "execution_count": 2,
     "metadata": {},
     "output_type": "execute_result"
    }
   ],
   "source": [
    "import pandas as pd \n",
    "import numpy as np \n",
    "\n",
    "# sklearn tools to Train and Test \n",
    "import sklearn\n",
    "from sklearn.model_selection import train_test_split\n",
    "from sklearn import linear_model\n",
    "import matplotlib.pyplot as plt\n",
    "\n",
    "\n",
    "columns=['symboling','normalized-losses','make','fuel-type',\n",
    "         'aspiration','num-of-doors','body-style',\n",
    "         'drive-wheels','engine-location','wheel-base',\n",
    "         'length','width','height',\n",
    "         'curb-weight','engine-type','num-of-cylinders',\n",
    "         'engine-size','fuel-system','bore',\n",
    "         'stroke','compression-ratio','horsepower',\n",
    "         'peak-rpm','city-mpg','highway-mpg','price']\n",
    "\n",
    "\n",
    "\n",
    "\n",
    "df=pd.read_csv(\"imports-85.data\",header=None,names=columns)\n",
    "\n",
    "# $df   =>shows df\n",
    "# showing all columns formats of features to do below steps , $df.info()\n",
    "#befor that open datafile in a text editor for seprating usful columns by observing below codes \n",
    "\n",
    "\n",
    "# clean coding rules in dataset.data\n",
    "    #1-we need to delete all string formats cuz they are useless such as Categorical , Binary\n",
    "    #2 - we keeo integer and  usefull Continuous called float formats cuz we need numbric datas\n",
    "    #3-obj in pandas can consists usefull numberic or float values  so it gets obj when we have mising value \n",
    "    #4- some of obj is good for prediction like price \n",
    "    \n",
    "df = df[['length', 'width', 'height', 'engine-size', 'horsepower', 'price']]\n",
    "\n",
    "# Replace '?' with actual NaN\n",
    "df.replace('?', np.nan, inplace=True)\n",
    "\n",
    "# Convert to numeric (invalid parsing will become NaN)\n",
    "df = df.apply(pd.to_numeric, errors='coerce')\n",
    "\n",
    "# Drop rows with NaN and infinite values\n",
    "df.dropna(inplace=True)\n",
    "df = df[~df.isin([np.inf, -np.inf]).any(axis=1)]\n",
    "\n",
    "# Now it's safe to convert to int\n",
    "df = df.astype(int)\n",
    "# df.info()\n",
    "\n",
    "# scoring and predections\n",
    "target='price'\n",
    "X = np.array(df.drop([target], axis=1))\n",
    "Y = np.array(df[target])\n",
    "\n",
    "for i in range(100):\n",
    "    x_train, x_test, y_train, y_test = train_test_split(X, Y, test_size=0.1,random_state=5)\n",
    "\n",
    "    # should be commited after saving data in destiny system\n",
    "    \n",
    "    # model = linear_model.LinearRegression()\n",
    "    # model.fit(x_train,y_train)\n",
    "    # score=model.score(x_test,y_test)\n",
    "    # if score>0.90:\n",
    "    #     # show acc\n",
    "    #     print(score) \n",
    "    #     break;\n",
    "    # else:\n",
    "    #     print(f\"score is not proper \")\n",
    "\n",
    "\n",
    "# saving model in folder\n",
    "import joblib\n",
    "model=joblib.load(\"lr.sav\")\n",
    "model.score(x_test,y_test)"
   ]
  },
  {
   "cell_type": "code",
   "execution_count": null,
   "id": "831d7512-85c9-4924-8df6-7b440f876911",
   "metadata": {},
   "outputs": [],
   "source": []
  }
 ],
 "metadata": {
  "kernelspec": {
   "display_name": "Python 3 (ipykernel)",
   "language": "python",
   "name": "python3"
  },
  "language_info": {
   "codemirror_mode": {
    "name": "ipython",
    "version": 3
   },
   "file_extension": ".py",
   "mimetype": "text/x-python",
   "name": "python",
   "nbconvert_exporter": "python",
   "pygments_lexer": "ipython3",
   "version": "3.9.0"
  }
 },
 "nbformat": 4,
 "nbformat_minor": 5
}
