{
 "cells": [
  {
   "cell_type": "code",
   "execution_count": 1,
   "id": "13935d7b-2986-4e71-997c-ff4050a2c33c",
   "metadata": {},
   "outputs": [
    {
     "data": {
      "text/html": [
       "<div>\n",
       "<style scoped>\n",
       "    .dataframe tbody tr th:only-of-type {\n",
       "        vertical-align: middle;\n",
       "    }\n",
       "\n",
       "    .dataframe tbody tr th {\n",
       "        vertical-align: top;\n",
       "    }\n",
       "\n",
       "    .dataframe thead th {\n",
       "        text-align: right;\n",
       "    }\n",
       "</style>\n",
       "<table border=\"1\" class=\"dataframe\">\n",
       "  <thead>\n",
       "    <tr style=\"text-align: right;\">\n",
       "      <th></th>\n",
       "      <th>Date</th>\n",
       "      <th>Open</th>\n",
       "      <th>High</th>\n",
       "      <th>Low</th>\n",
       "      <th>Close</th>\n",
       "      <th>Adj Close</th>\n",
       "      <th>Volume</th>\n",
       "    </tr>\n",
       "  </thead>\n",
       "  <tbody>\n",
       "    <tr>\n",
       "      <th>0</th>\n",
       "      <td>2017-11-09</td>\n",
       "      <td>1.01087</td>\n",
       "      <td>1.01327</td>\n",
       "      <td>0.996515</td>\n",
       "      <td>1.00818</td>\n",
       "      <td>1.00818</td>\n",
       "      <td>358188000.0</td>\n",
       "    </tr>\n",
       "  </tbody>\n",
       "</table>\n",
       "</div>"
      ],
      "text/plain": [
       "         Date     Open     High       Low    Close  Adj Close       Volume\n",
       "0  2017-11-09  1.01087  1.01327  0.996515  1.00818    1.00818  358188000.0"
      ]
     },
     "execution_count": 1,
     "metadata": {},
     "output_type": "execute_result"
    }
   ],
   "source": [
    "import pandas as pd \n",
    "import numpy as np\n",
    "import sklearn\n",
    "from sklearn.model_selection import train_test_split\n",
    "from sklearn.linear_model import LinearRegression\n",
    "import matplotlib.pyplot as plt\n",
    "from sklearn import linear_model\n",
    "\n",
    "\n",
    "\n",
    "df = pd.read_csv(\"USDT-USD.csv\",sep=\",\")\n",
    "df.head(1)\n"
   ]
  },
  {
   "cell_type": "code",
   "execution_count": 2,
   "id": "1cf33847-d4e8-49bc-ada0-d1773d30363c",
   "metadata": {},
   "outputs": [],
   "source": [
    "#we seprate Data col to three seprated col year month day \n",
    "df['year']=[int (i.split('-')[0]) for i in df['Date'].values ]\n",
    "df['month']=[int (i.split('-')[1]) for i in df['Date'].values ]\n",
    "df['day']=[int (i.split('-')[2]) for i in df['Date'].values ]\n"
   ]
  },
  {
   "cell_type": "code",
   "execution_count": 3,
   "id": "5c9b5515-997e-4ee2-9b90-523e8a674d91",
   "metadata": {},
   "outputs": [
    {
     "data": {
      "text/html": [
       "<div>\n",
       "<style scoped>\n",
       "    .dataframe tbody tr th:only-of-type {\n",
       "        vertical-align: middle;\n",
       "    }\n",
       "\n",
       "    .dataframe tbody tr th {\n",
       "        vertical-align: top;\n",
       "    }\n",
       "\n",
       "    .dataframe thead th {\n",
       "        text-align: right;\n",
       "    }\n",
       "</style>\n",
       "<table border=\"1\" class=\"dataframe\">\n",
       "  <thead>\n",
       "    <tr style=\"text-align: right;\">\n",
       "      <th></th>\n",
       "      <th>Date</th>\n",
       "      <th>Open</th>\n",
       "      <th>High</th>\n",
       "      <th>Low</th>\n",
       "      <th>Close</th>\n",
       "      <th>Adj Close</th>\n",
       "      <th>Volume</th>\n",
       "      <th>year</th>\n",
       "      <th>month</th>\n",
       "      <th>day</th>\n",
       "    </tr>\n",
       "  </thead>\n",
       "  <tbody>\n",
       "    <tr>\n",
       "      <th>0</th>\n",
       "      <td>2017-11-09</td>\n",
       "      <td>1.01087</td>\n",
       "      <td>1.01327</td>\n",
       "      <td>0.996515</td>\n",
       "      <td>1.00818</td>\n",
       "      <td>1.00818</td>\n",
       "      <td>358188000.0</td>\n",
       "      <td>2017</td>\n",
       "      <td>11</td>\n",
       "      <td>9</td>\n",
       "    </tr>\n",
       "  </tbody>\n",
       "</table>\n",
       "</div>"
      ],
      "text/plain": [
       "         Date     Open     High       Low    Close  Adj Close       Volume  \\\n",
       "0  2017-11-09  1.01087  1.01327  0.996515  1.00818    1.00818  358188000.0   \n",
       "\n",
       "   year  month  day  \n",
       "0  2017     11    9  "
      ]
     },
     "execution_count": 3,
     "metadata": {},
     "output_type": "execute_result"
    }
   ],
   "source": [
    "df.head(1)"
   ]
  },
  {
   "cell_type": "code",
   "execution_count": 4,
   "id": "50524676-d63c-4e18-8098-f092b2e14baf",
   "metadata": {},
   "outputs": [],
   "source": [
    "c1=df['year'].to_list()\n",
    "c2=df['month'].to_list()\n",
    "c3=df['day'].to_list()\n",
    "c4=df['Close'].to_list()\n",
    "df=list(zip(c1,c2,c3,c4))\n",
    "# df is not seenable"
   ]
  },
  {
   "cell_type": "code",
   "execution_count": 5,
   "id": "8151356c-f2ab-4761-a095-327d2139f877",
   "metadata": {},
   "outputs": [],
   "source": [
    "time_window=30"
   ]
  },
  {
   "cell_type": "code",
   "execution_count": 6,
   "id": "0972a471-9b9d-4584-95d2-51214adc2215",
   "metadata": {},
   "outputs": [],
   "source": [
    "X=[]\n",
    "Y=[]\n",
    "for i in range ( 0 , len(df)-time_window):\n",
    "    X.append(np.reshape([df [j] for j in range (i,i+time_window)], -1).tolist())\n",
    "    Y.append(df[i+time_window][-1])\n",
    "    "
   ]
  },
  {
   "cell_type": "code",
   "execution_count": null,
   "id": "14753967-c17a-4d6f-9114-e572f392be0a",
   "metadata": {},
   "outputs": [],
   "source": [
    "\n",
    "x_train, x_test, y_train, y_test = train_test_split(X, Y, test_size=0.1)\n",
    "# model = LinearRegression()\n",
    "# model.fit(x_train,y_train)\n",
    "\n",
    "model = linear_model.LinearRegression()\n",
    "model.fit(x_train,y_train)\n",
    "score=model.score(x_test,y_test)\n",
    "\n",
    "# show acc\n",
    "print(score)\n"
   ]
  },
  {
   "cell_type": "code",
   "execution_count": null,
   "id": "9bf5b548-1069-4c3b-b10f-e18d2e3dc369",
   "metadata": {},
   "outputs": [],
   "source": [
    "predictiond=model.predict(x_test)"
   ]
  },
  {
   "cell_type": "code",
   "execution_count": null,
   "id": "91a44178-decf-42c2-9058-2eadba732a81",
   "metadata": {},
   "outputs": [],
   "source": [
    "plt.figure(figsize=(10,5))\n",
    "plt.plot(predictions,label=\"pred\")\n",
    "plt.plot(y_test,label=\"Real\")\n",
    "plt.grid()\n",
    "plt.legend()\n",
    "plt.show\n"
   ]
  },
  {
   "cell_type": "markdown",
   "id": "0f7f148a-6711-4f64-877b-17fe0a54ff35",
   "metadata": {},
   "source": [
    "model.score(x_test,y_test)"
   ]
  }
 ],
 "metadata": {
  "kernelspec": {
   "display_name": "Python 3 (ipykernel)",
   "language": "python",
   "name": "python3"
  },
  "language_info": {
   "codemirror_mode": {
    "name": "ipython",
    "version": 3
   },
   "file_extension": ".py",
   "mimetype": "text/x-python",
   "name": "python",
   "nbconvert_exporter": "python",
   "pygments_lexer": "ipython3",
   "version": "3.9.0"
  }
 },
 "nbformat": 4,
 "nbformat_minor": 5
}
