{
 "cells": [
  {
   "cell_type": "code",
   "execution_count": null,
   "id": "85a99519-d66d-4a3b-a293-dc66b5469f37",
   "metadata": {},
   "outputs": [],
   "source": [
    "import pandas as pd\n",
    "df=pd.read_csv(\"your data file \",header=None)\n",
    "df.columns=['all features in .data file ','.....']\n",
    "\n",
    "\n",
    "# we we have categorical or string type of data \"df.info()\"\n",
    "# we make a col and coverts  similar values to a index of a list that \n",
    "#they become a numerical num\n",
    "#we must do this for all features ... \n",
    "\n",
    "\n",
    "buying_lst=list(df['buying'].unique())\n",
    "df['n_buying'] = [buying_lst.index(i) for i in df['buying']\n",
    "#...\n",
    "\n",
    "# then we get this  numerical col \n",
    "df=df[['n_buying' , '.....' ]]\n",
    "\n",
    "\n",
    "predict='a feature'\n",
    "X=df.drop(predict)\n",
    "Y=df[pridict]"
   ]
  }
 ],
 "metadata": {
  "kernelspec": {
   "display_name": "Python 3 (ipykernel)",
   "language": "python",
   "name": "python3"
  },
  "language_info": {
   "codemirror_mode": {
    "name": "ipython",
    "version": 3
   },
   "file_extension": ".py",
   "mimetype": "text/x-python",
   "name": "python",
   "nbconvert_exporter": "python",
   "pygments_lexer": "ipython3",
   "version": "3.9.0"
  }
 },
 "nbformat": 4,
 "nbformat_minor": 5
}
